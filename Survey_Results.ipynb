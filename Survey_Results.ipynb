{
 "cells": [
  {
   "cell_type": "code",
   "execution_count": 1,
   "metadata": {},
   "outputs": [],
   "source": [
    "import pandas as pd\n",
    "import numpy as np"
   ]
  },
  {
   "cell_type": "code",
   "execution_count": 2,
   "metadata": {},
   "outputs": [],
   "source": [
    "df = pd.read_excel('2018_REU_Participant_Survey_Data.xlsx')"
   ]
  },
  {
   "cell_type": "code",
   "execution_count": 3,
   "metadata": {},
   "outputs": [],
   "source": [
    "def parse_responses(df, col_subfield):\n",
    "    set_subfields = set()\n",
    "    for row in df[col_subfield]:\n",
    "        list_of_responses = row.split('\\n')\n",
    "        for response in list_of_responses:\n",
    "            set_subfields.add(response)\n",
    "\n",
    "    subfields = pd.DataFrame(columns=set_subfields)        \n",
    "    for row in df[col_subfield]:\n",
    "        list_of_responses = row.split('\\n')\n",
    "        for response in list_of_responses:\n",
    "            subfields.loc[row, response] = 1\n",
    "    subfields = subfields.fillna(0)\n",
    "    return subfields"
   ]
  },
  {
   "cell_type": "code",
   "execution_count": 4,
   "metadata": {},
   "outputs": [
    {
     "data": {
      "text/plain": [
       "Labor economics                                         15\n",
       "Econometrics                                            14\n",
       "Finance                                                 10\n",
       "Industrial organization                                  8\n",
       "Other: Behavioral Economics                              3\n",
       "Other: Development Economics                             2\n",
       "Other: Environnmental                                    1\n",
       "Other: Behavioral Economics                              1\n",
       "Other: Game Theory                                       1\n",
       "Other: Monetary, Behavioral, Game Theory                 1\n",
       "Other: Developmental Economics                           1\n",
       "Other: information economics, economics of education     1\n",
       "Other: Health Economics                                  1\n",
       "Other: Education, Health                                 1\n",
       "Other: Health economics, education economics             1\n",
       "Other: Environmental economics                           1\n",
       "dtype: int64"
      ]
     },
     "execution_count": 4,
     "metadata": {},
     "output_type": "execute_result"
    }
   ],
   "source": [
    "col_subfield = ('When we teach programming, we want to use examples from economics.' \n",
    "                ' What subfields of economics are you interested in learning more about?')\n",
    "subfields = parse_responses(df, col_subfield)\n",
    "subfields.sum().sort_values(ascending=False)"
   ]
  },
  {
   "cell_type": "code",
   "execution_count": 5,
   "metadata": {},
   "outputs": [
    {
     "data": {
      "text/plain": [
       "Analyzing data                  36\n",
       "Plotting data/visualizations    30\n",
       "Optimization                    30\n",
       "Advanced R                      28\n",
       "Manipulating data               26\n",
       "Mapping geographic data         25\n",
       "Introductory Stata              24\n",
       "Running regressions             23\n",
       "Introductory R                  22\n",
       "Introductory Python             21\n",
       "Simulations                     21\n",
       "Advanced Python                 21\n",
       "Using APIs to access data       18\n",
       "Estimated structural models     17\n",
       "Advanced Stata                  16\n",
       "Introductory Matlab             15\n",
       "Advanced Matlab                 12\n",
       "Fuzzy string-matching           11\n",
       "dtype: int64"
      ]
     },
     "execution_count": 5,
     "metadata": {},
     "output_type": "execute_result"
    }
   ],
   "source": [
    "col_subfield = ('What programming-related topics are you interested in learning in REU?')\n",
    "subfields = parse_responses(df, col_subfield)\n",
    "subfields.sum().sort_values(ascending=False)"
   ]
  },
  {
   "cell_type": "code",
   "execution_count": 6,
   "metadata": {},
   "outputs": [
    {
     "data": {
      "text/plain": [
       "R                                            14\n",
       "Python                                       12\n",
       "Stata                                        11\n",
       "Other: MATLAB                                 3\n",
       "Other: Matlab                                 3\n",
       "Other: C                                      2\n",
       "Other: SQL                                    1\n",
       "Other: C++,Haskell,C,Java,Objective-C,SQL     1\n",
       "Other: Java                                   1\n",
       "Other: N/A                                    1\n",
       "Other: HTML, CSS, and basic JavaScript        1\n",
       "Other: java                                   1\n",
       "Other: C++ and Matlab                         1\n",
       "Other: Not much experience                    1\n",
       "Other: C/C++                                  1\n",
       "Other: None                                   1\n",
       "Other: Java, C                                1\n",
       "Other: n/a                                    1\n",
       "dtype: int64"
      ]
     },
     "execution_count": 6,
     "metadata": {},
     "output_type": "execute_result"
    }
   ],
   "source": [
    "col_subfield = ('What is your programming background? Select all that apply')\n",
    "subfields = parse_responses(df, col_subfield)\n",
    "subfields.sum().sort_values(ascending=False)"
   ]
  }
 ],
 "metadata": {
  "kernelspec": {
   "display_name": "Python 3",
   "language": "python",
   "name": "python3"
  },
  "language_info": {
   "codemirror_mode": {
    "name": "ipython",
    "version": 3
   },
   "file_extension": ".py",
   "mimetype": "text/x-python",
   "name": "python",
   "nbconvert_exporter": "python",
   "pygments_lexer": "ipython3",
   "version": "3.6.5"
  }
 },
 "nbformat": 4,
 "nbformat_minor": 2
}
